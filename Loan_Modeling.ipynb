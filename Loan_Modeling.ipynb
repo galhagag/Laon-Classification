{
 "cells": [
  {
   "cell_type": "code",
   "execution_count": 1,
   "metadata": {},
   "outputs": [],
   "source": [
    "import numpy as np\n",
    "import pandas as pd\n",
    "import matplotlib.pyplot as plt\n",
    "import seaborn as sns\n",
    "from time import time\n",
    "from sklearn.linear_model import LogisticRegression\n",
    "from sklearn.svm import LinearSVC, SVC\n",
    "from sklearn.naive_bayes import GaussianNB\n",
    "from sklearn.ensemble import RandomForestClassifier\n",
    "from sklearn.metrics import confusion_matrix, classification_report, mean_squared_error\n",
    "from sklearn.model_selection import train_test_split\n",
    "from sklearn.preprocessing import StandardScaler, MinMaxScaler, MaxAbsScaler\n",
    "from sklearn.pipeline import Pipeline\n",
    "from sklearn.model_selection import GridSearchCV\n",
    "\n",
    "%matplotlib inline\n",
    "\n",
    "import warnings\n",
    "warnings.filterwarnings('ignore')\n",
    "pd.set_option('float_format', '{:2f}'.format)\n",
    "\n",
    "pd.set_option('display.max_columns', 500)\n",
    "pd.set_option('display.width', 1000)"
   ]
  },
  {
   "cell_type": "code",
   "execution_count": 2,
   "metadata": {},
   "outputs": [
    {
     "name": "stdout",
     "output_type": "stream",
     "text": [
      "(90528, 37)\n"
     ]
    },
    {
     "data": {
      "text/html": [
       "<div>\n",
       "<style scoped>\n",
       "    .dataframe tbody tr th:only-of-type {\n",
       "        vertical-align: middle;\n",
       "    }\n",
       "\n",
       "    .dataframe tbody tr th {\n",
       "        vertical-align: top;\n",
       "    }\n",
       "\n",
       "    .dataframe thead th {\n",
       "        text-align: right;\n",
       "    }\n",
       "</style>\n",
       "<table border=\"1\" class=\"dataframe\">\n",
       "  <thead>\n",
       "    <tr style=\"text-align: right;\">\n",
       "      <th></th>\n",
       "      <th>disbursed_amount</th>\n",
       "      <th>asset_cost</th>\n",
       "      <th>ltv</th>\n",
       "      <th>branch_id</th>\n",
       "      <th>supplier_id</th>\n",
       "      <th>manufacturer_id</th>\n",
       "      <th>Current_pincode_ID</th>\n",
       "      <th>Date.of.Birth</th>\n",
       "      <th>Employment.Type</th>\n",
       "      <th>DisbursalDate</th>\n",
       "      <th>State_ID</th>\n",
       "      <th>Employee_code_ID</th>\n",
       "      <th>Aadhar_flag</th>\n",
       "      <th>PAN_flag</th>\n",
       "      <th>VoterID_flag</th>\n",
       "      <th>Driving_flag</th>\n",
       "      <th>Passport_flag</th>\n",
       "      <th>PERFORM_CNS.SCORE</th>\n",
       "      <th>PERFORM_CNS.SCORE.DESCRIPTION</th>\n",
       "      <th>PRI.NO.OF.ACCTS</th>\n",
       "      <th>PRI.ACTIVE.ACCTS</th>\n",
       "      <th>PRI.OVERDUE.ACCTS</th>\n",
       "      <th>PRI.CURRENT.BALANCE</th>\n",
       "      <th>PRI.SANCTIONED.AMOUNT</th>\n",
       "      <th>SEC.NO.OF.ACCTS</th>\n",
       "      <th>SEC.ACTIVE.ACCTS</th>\n",
       "      <th>SEC.OVERDUE.ACCTS</th>\n",
       "      <th>SEC.CURRENT.BALANCE</th>\n",
       "      <th>SEC.DISBURSED.AMOUNT</th>\n",
       "      <th>PRIMARY.INSTAL.AMT</th>\n",
       "      <th>SEC.INSTAL.AMT</th>\n",
       "      <th>NEW.ACCTS.IN.LAST.SIX.MONTHS</th>\n",
       "      <th>DELINQUENT.ACCTS.IN.LAST.SIX.MONTHS</th>\n",
       "      <th>NO.OF_INQUIRIES</th>\n",
       "      <th>loan_default</th>\n",
       "      <th>AVERAGE_ACCT_AGE(mon)</th>\n",
       "      <th>CREDIT_HISTORY_LENGTH(mon)</th>\n",
       "    </tr>\n",
       "    <tr>\n",
       "      <th>UniqueID</th>\n",
       "      <th></th>\n",
       "      <th></th>\n",
       "      <th></th>\n",
       "      <th></th>\n",
       "      <th></th>\n",
       "      <th></th>\n",
       "      <th></th>\n",
       "      <th></th>\n",
       "      <th></th>\n",
       "      <th></th>\n",
       "      <th></th>\n",
       "      <th></th>\n",
       "      <th></th>\n",
       "      <th></th>\n",
       "      <th></th>\n",
       "      <th></th>\n",
       "      <th></th>\n",
       "      <th></th>\n",
       "      <th></th>\n",
       "      <th></th>\n",
       "      <th></th>\n",
       "      <th></th>\n",
       "      <th></th>\n",
       "      <th></th>\n",
       "      <th></th>\n",
       "      <th></th>\n",
       "      <th></th>\n",
       "      <th></th>\n",
       "      <th></th>\n",
       "      <th></th>\n",
       "      <th></th>\n",
       "      <th></th>\n",
       "      <th></th>\n",
       "      <th></th>\n",
       "      <th></th>\n",
       "      <th></th>\n",
       "      <th></th>\n",
       "    </tr>\n",
       "  </thead>\n",
       "  <tbody>\n",
       "    <tr>\n",
       "      <th>420825</th>\n",
       "      <td>50578</td>\n",
       "      <td>58400</td>\n",
       "      <td>89.550000</td>\n",
       "      <td>67</td>\n",
       "      <td>22807</td>\n",
       "      <td>45</td>\n",
       "      <td>1441</td>\n",
       "      <td>1984-01-01</td>\n",
       "      <td>Salaried</td>\n",
       "      <td>2018-03-08</td>\n",
       "      <td>6</td>\n",
       "      <td>1998</td>\n",
       "      <td>1</td>\n",
       "      <td>0</td>\n",
       "      <td>0</td>\n",
       "      <td>0</td>\n",
       "      <td>0</td>\n",
       "      <td>0</td>\n",
       "      <td>No Bureau History Available</td>\n",
       "      <td>0</td>\n",
       "      <td>0</td>\n",
       "      <td>0</td>\n",
       "      <td>0</td>\n",
       "      <td>0</td>\n",
       "      <td>0</td>\n",
       "      <td>0</td>\n",
       "      <td>0</td>\n",
       "      <td>0</td>\n",
       "      <td>0</td>\n",
       "      <td>0</td>\n",
       "      <td>0</td>\n",
       "      <td>0</td>\n",
       "      <td>0</td>\n",
       "      <td>0</td>\n",
       "      <td>0</td>\n",
       "      <td>0</td>\n",
       "      <td>0</td>\n",
       "    </tr>\n",
       "    <tr>\n",
       "      <th>537409</th>\n",
       "      <td>47145</td>\n",
       "      <td>65550</td>\n",
       "      <td>73.230000</td>\n",
       "      <td>67</td>\n",
       "      <td>22807</td>\n",
       "      <td>45</td>\n",
       "      <td>1502</td>\n",
       "      <td>1985-07-31</td>\n",
       "      <td>Self employed</td>\n",
       "      <td>2018-09-26</td>\n",
       "      <td>6</td>\n",
       "      <td>1998</td>\n",
       "      <td>1</td>\n",
       "      <td>0</td>\n",
       "      <td>0</td>\n",
       "      <td>0</td>\n",
       "      <td>0</td>\n",
       "      <td>598</td>\n",
       "      <td>I-Medium Risk</td>\n",
       "      <td>1</td>\n",
       "      <td>1</td>\n",
       "      <td>1</td>\n",
       "      <td>27600</td>\n",
       "      <td>50200</td>\n",
       "      <td>0</td>\n",
       "      <td>0</td>\n",
       "      <td>0</td>\n",
       "      <td>0</td>\n",
       "      <td>0</td>\n",
       "      <td>1991</td>\n",
       "      <td>0</td>\n",
       "      <td>0</td>\n",
       "      <td>1</td>\n",
       "      <td>0</td>\n",
       "      <td>1</td>\n",
       "      <td>23</td>\n",
       "      <td>23</td>\n",
       "    </tr>\n",
       "  </tbody>\n",
       "</table>\n",
       "</div>"
      ],
      "text/plain": [
       "          disbursed_amount  asset_cost       ltv  branch_id  supplier_id  manufacturer_id  Current_pincode_ID Date.of.Birth Employment.Type DisbursalDate  State_ID  Employee_code_ID  Aadhar_flag  PAN_flag  VoterID_flag  Driving_flag  Passport_flag  PERFORM_CNS.SCORE PERFORM_CNS.SCORE.DESCRIPTION  PRI.NO.OF.ACCTS  PRI.ACTIVE.ACCTS  PRI.OVERDUE.ACCTS  PRI.CURRENT.BALANCE  PRI.SANCTIONED.AMOUNT  SEC.NO.OF.ACCTS  SEC.ACTIVE.ACCTS  SEC.OVERDUE.ACCTS  SEC.CURRENT.BALANCE  SEC.DISBURSED.AMOUNT  PRIMARY.INSTAL.AMT  SEC.INSTAL.AMT  NEW.ACCTS.IN.LAST.SIX.MONTHS  DELINQUENT.ACCTS.IN.LAST.SIX.MONTHS  NO.OF_INQUIRIES  loan_default  AVERAGE_ACCT_AGE(mon)  CREDIT_HISTORY_LENGTH(mon)\n",
       "UniqueID                                                                                                                                                                                                                                                                                                                                                                                                                                                                                                                                                                                                                                                                                            \n",
       "420825               50578       58400 89.550000         67        22807               45                1441    1984-01-01        Salaried    2018-03-08         6              1998            1         0             0             0              0                  0   No Bureau History Available                0                 0                  0                    0                      0                0                 0                  0                    0                     0                   0               0                             0                                    0                0             0                      0                           0\n",
       "537409               47145       65550 73.230000         67        22807               45                1502    1985-07-31   Self employed    2018-09-26         6              1998            1         0             0             0              0                598                 I-Medium Risk                1                 1                  1                27600                  50200                0                 0                  0                    0                     0                1991               0                             0                                    1                0             1                     23                          23"
      ]
     },
     "execution_count": 2,
     "metadata": {},
     "output_type": "execute_result"
    }
   ],
   "source": [
    "loan = pd.read_csv('new_loan_data.csv', index_col='UniqueID')\n",
    "print(loan.shape)\n",
    "loan.head(2)"
   ]
  },
  {
   "cell_type": "markdown",
   "metadata": {},
   "source": [
    "First we'll try to examine the data in 2D visualisation:"
   ]
  },
  {
   "cell_type": "code",
   "execution_count": 3,
   "metadata": {},
   "outputs": [
    {
     "name": "stdout",
     "output_type": "stream",
     "text": [
      "(90528, 13695)\n"
     ]
    }
   ],
   "source": [
    "loan_dummies = pd.get_dummies(loan.drop(columns=['loan_default']),drop_first=True)\n",
    "print(loan_dummies.shape)\n",
    "\n",
    "X = loan_dummies\n",
    "y = loan.loan_default"
   ]
  },
  {
   "cell_type": "code",
   "execution_count": 4,
   "metadata": {},
   "outputs": [],
   "source": [
    "from sklearn.decomposition import PCA\n",
    "\n",
    "X_scaled = StandardScaler().fit_transform(X)\n",
    "\n",
    "X_pca_scaled = PCA(n_components=2).fit_transform(X_scaled)"
   ]
  },
  {
   "cell_type": "code",
   "execution_count": 5,
   "metadata": {},
   "outputs": [
    {
     "data": {
      "text/plain": [
       "Text(0.5, 1.0, 'Segment visualization')"
      ]
     },
     "execution_count": 5,
     "metadata": {},
     "output_type": "execute_result"
    },
    {
     "data": {
      "image/png": "[encoded data removed]",
      "text/plain": [
       "<Figure size 720x504 with 1 Axes>"
      ]
     },
     "metadata": {
      "needs_background": "light"
     },
     "output_type": "display_data"
    }
   ],
   "source": [
    "plt.figure(figsize=(10,7))\n",
    "plt.scatter(X_pca_scaled[:, 0], \n",
    "            X_pca_scaled[:, 1], \n",
    "            c=list(y), s=50, edgecolor='k')\n",
    "plt.xlabel('component1')\n",
    "plt.ylabel('component2')\n",
    "plt.title('Segment visualization',fontsize=20)"
   ]
  },
  {
   "cell_type": "markdown",
   "metadata": {},
   "source": [
    "> There's no clear visual differnce between the two group (default=purple and non-default=yellow)"
   ]
  },
  {
   "cell_type": "code",
   "execution_count": 6,
   "metadata": {},
   "outputs": [
    {
     "data": {
      "text/html": [
       "<div>\n",
       "<style scoped>\n",
       "    .dataframe tbody tr th:only-of-type {\n",
       "        vertical-align: middle;\n",
       "    }\n",
       "\n",
       "    .dataframe tbody tr th {\n",
       "        vertical-align: top;\n",
       "    }\n",
       "\n",
       "    .dataframe thead th {\n",
       "        text-align: right;\n",
       "    }\n",
       "</style>\n",
       "<table border=\"1\" class=\"dataframe\">\n",
       "  <thead>\n",
       "    <tr style=\"text-align: right;\">\n",
       "      <th></th>\n",
       "      <th>disbursed_amount</th>\n",
       "      <th>asset_cost</th>\n",
       "      <th>ltv</th>\n",
       "      <th>branch_id</th>\n",
       "      <th>supplier_id</th>\n",
       "      <th>manufacturer_id</th>\n",
       "      <th>Current_pincode_ID</th>\n",
       "      <th>Date.of.Birth</th>\n",
       "      <th>Employment.Type</th>\n",
       "      <th>DisbursalDate</th>\n",
       "      <th>State_ID</th>\n",
       "      <th>Employee_code_ID</th>\n",
       "      <th>Aadhar_flag</th>\n",
       "      <th>PAN_flag</th>\n",
       "      <th>VoterID_flag</th>\n",
       "      <th>Driving_flag</th>\n",
       "      <th>Passport_flag</th>\n",
       "      <th>PERFORM_CNS.SCORE</th>\n",
       "      <th>PERFORM_CNS.SCORE.DESCRIPTION</th>\n",
       "      <th>PRI.NO.OF.ACCTS</th>\n",
       "      <th>PRI.ACTIVE.ACCTS</th>\n",
       "      <th>PRI.OVERDUE.ACCTS</th>\n",
       "      <th>PRI.CURRENT.BALANCE</th>\n",
       "      <th>PRI.SANCTIONED.AMOUNT</th>\n",
       "      <th>SEC.NO.OF.ACCTS</th>\n",
       "      <th>SEC.ACTIVE.ACCTS</th>\n",
       "      <th>SEC.OVERDUE.ACCTS</th>\n",
       "      <th>SEC.CURRENT.BALANCE</th>\n",
       "      <th>SEC.DISBURSED.AMOUNT</th>\n",
       "      <th>PRIMARY.INSTAL.AMT</th>\n",
       "      <th>SEC.INSTAL.AMT</th>\n",
       "      <th>NEW.ACCTS.IN.LAST.SIX.MONTHS</th>\n",
       "      <th>DELINQUENT.ACCTS.IN.LAST.SIX.MONTHS</th>\n",
       "      <th>NO.OF_INQUIRIES</th>\n",
       "      <th>loan_default</th>\n",
       "      <th>AVERAGE_ACCT_AGE(mon)</th>\n",
       "      <th>CREDIT_HISTORY_LENGTH(mon)</th>\n",
       "    </tr>\n",
       "    <tr>\n",
       "      <th>UniqueID</th>\n",
       "      <th></th>\n",
       "      <th></th>\n",
       "      <th></th>\n",
       "      <th></th>\n",
       "      <th></th>\n",
       "      <th></th>\n",
       "      <th></th>\n",
       "      <th></th>\n",
       "      <th></th>\n",
       "      <th></th>\n",
       "      <th></th>\n",
       "      <th></th>\n",
       "      <th></th>\n",
       "      <th></th>\n",
       "      <th></th>\n",
       "      <th></th>\n",
       "      <th></th>\n",
       "      <th></th>\n",
       "      <th></th>\n",
       "      <th></th>\n",
       "      <th></th>\n",
       "      <th></th>\n",
       "      <th></th>\n",
       "      <th></th>\n",
       "      <th></th>\n",
       "      <th></th>\n",
       "      <th></th>\n",
       "      <th></th>\n",
       "      <th></th>\n",
       "      <th></th>\n",
       "      <th></th>\n",
       "      <th></th>\n",
       "      <th></th>\n",
       "      <th></th>\n",
       "      <th></th>\n",
       "      <th></th>\n",
       "      <th></th>\n",
       "    </tr>\n",
       "  </thead>\n",
       "  <tbody>\n",
       "    <tr>\n",
       "      <th>420825</th>\n",
       "      <td>50578</td>\n",
       "      <td>58400</td>\n",
       "      <td>89.550000</td>\n",
       "      <td>67</td>\n",
       "      <td>22807</td>\n",
       "      <td>45</td>\n",
       "      <td>1441</td>\n",
       "      <td>1984-01-01</td>\n",
       "      <td>Salaried</td>\n",
       "      <td>2018-03-08</td>\n",
       "      <td>6</td>\n",
       "      <td>1998</td>\n",
       "      <td>1</td>\n",
       "      <td>0</td>\n",
       "      <td>0</td>\n",
       "      <td>0</td>\n",
       "      <td>0</td>\n",
       "      <td>0</td>\n",
       "      <td>No Bureau History Available</td>\n",
       "      <td>0</td>\n",
       "      <td>0</td>\n",
       "      <td>0</td>\n",
       "      <td>0</td>\n",
       "      <td>0</td>\n",
       "      <td>0</td>\n",
       "      <td>0</td>\n",
       "      <td>0</td>\n",
       "      <td>0</td>\n",
       "      <td>0</td>\n",
       "      <td>0</td>\n",
       "      <td>0</td>\n",
       "      <td>0</td>\n",
       "      <td>0</td>\n",
       "      <td>0</td>\n",
       "      <td>0</td>\n",
       "      <td>0</td>\n",
       "      <td>0</td>\n",
       "    </tr>\n",
       "  </tbody>\n",
       "</table>\n",
       "</div>"
      ],
      "text/plain": [
       "          disbursed_amount  asset_cost       ltv  branch_id  supplier_id  manufacturer_id  Current_pincode_ID Date.of.Birth Employment.Type DisbursalDate  State_ID  Employee_code_ID  Aadhar_flag  PAN_flag  VoterID_flag  Driving_flag  Passport_flag  PERFORM_CNS.SCORE PERFORM_CNS.SCORE.DESCRIPTION  PRI.NO.OF.ACCTS  PRI.ACTIVE.ACCTS  PRI.OVERDUE.ACCTS  PRI.CURRENT.BALANCE  PRI.SANCTIONED.AMOUNT  SEC.NO.OF.ACCTS  SEC.ACTIVE.ACCTS  SEC.OVERDUE.ACCTS  SEC.CURRENT.BALANCE  SEC.DISBURSED.AMOUNT  PRIMARY.INSTAL.AMT  SEC.INSTAL.AMT  NEW.ACCTS.IN.LAST.SIX.MONTHS  DELINQUENT.ACCTS.IN.LAST.SIX.MONTHS  NO.OF_INQUIRIES  loan_default  AVERAGE_ACCT_AGE(mon)  CREDIT_HISTORY_LENGTH(mon)\n",
       "UniqueID                                                                                                                                                                                                                                                                                                                                                                                                                                                                                                                                                                                                                                                                                            \n",
       "420825               50578       58400 89.550000         67        22807               45                1441    1984-01-01        Salaried    2018-03-08         6              1998            1         0             0             0              0                  0   No Bureau History Available                0                 0                  0                    0                      0                0                 0                  0                    0                     0                   0               0                             0                                    0                0             0                      0                           0"
      ]
     },
     "execution_count": 6,
     "metadata": {},
     "output_type": "execute_result"
    }
   ],
   "source": [
    "loan.head(1)"
   ]
  },
  {
   "cell_type": "markdown",
   "metadata": {},
   "source": [
    "---\n",
    "# Modeling"
   ]
  },
  {
   "cell_type": "markdown",
   "metadata": {},
   "source": [
    "first I'll drop features that won't be used in the models:\n",
    " - Some features have too many categories and in my opinion aren't relevant for loan default prediction (supplier_id, Current_pincode_ID an so on). \n",
    " - Date features (relevant data was exracted from them in preprocessing)\n",
    " - Descriptive features\n",
    " \n",
    "**The main goal in these models is to maximize TPR (minimun undetected loan defaults) - the most expensive senario for the lender, while FP (false default alert) will probably result in a phone call or a meeting with the borrower - reasonable error price.**"
   ]
  },
  {
   "cell_type": "code",
   "execution_count": 7,
   "metadata": {},
   "outputs": [],
   "source": [
    "# dateset for modeling:\n",
    "\n",
    "model_loan = loan.drop(columns=['branch_id','supplier_id','manufacturer_id','Current_pincode_ID',\n",
    "                                'Date.of.Birth','DisbursalDate','PERFORM_CNS.SCORE.DESCRIPTION',\n",
    "                               'Employee_code_ID'])"
   ]
  },
  {
   "cell_type": "code",
   "execution_count": 8,
   "metadata": {},
   "outputs": [],
   "source": [
    "# converting relevant features into categorical:\n",
    "    \n",
    "model_loan['State_ID'] = model_loan['State_ID'].astype(object)\n",
    "# model_loan['Employee_code_ID'] = model_loan['Employee_code_ID'].astype(object)"
   ]
  },
  {
   "cell_type": "code",
   "execution_count": 9,
   "metadata": {},
   "outputs": [],
   "source": [
    "# converting binary features to bool type:\n",
    "\n",
    "for col in model_loan.columns:\n",
    "    if model_loan[col].nunique()==2:\n",
    "        model_loan[col]=model_loan[col].astype(bool)"
   ]
  },
  {
   "cell_type": "code",
   "execution_count": 10,
   "metadata": {},
   "outputs": [
    {
     "name": "stdout",
     "output_type": "stream",
     "text": [
      "(90528, 46)\n"
     ]
    }
   ],
   "source": [
    "loan_dummies = pd.get_dummies(model_loan,drop_first=False)\n",
    "print(loan_dummies.shape)"
   ]
  },
  {
   "cell_type": "code",
   "execution_count": 11,
   "metadata": {},
   "outputs": [
    {
     "data": {
      "text/html": [
       "<div>\n",
       "<style scoped>\n",
       "    .dataframe tbody tr th:only-of-type {\n",
       "        vertical-align: middle;\n",
       "    }\n",
       "\n",
       "    .dataframe tbody tr th {\n",
       "        vertical-align: top;\n",
       "    }\n",
       "\n",
       "    .dataframe thead th {\n",
       "        text-align: right;\n",
       "    }\n",
       "</style>\n",
       "<table border=\"1\" class=\"dataframe\">\n",
       "  <thead>\n",
       "    <tr style=\"text-align: right;\">\n",
       "      <th></th>\n",
       "      <th>disbursed_amount</th>\n",
       "      <th>asset_cost</th>\n",
       "      <th>ltv</th>\n",
       "      <th>Employment.Type</th>\n",
       "      <th>Aadhar_flag</th>\n",
       "      <th>PAN_flag</th>\n",
       "      <th>VoterID_flag</th>\n",
       "      <th>Driving_flag</th>\n",
       "      <th>Passport_flag</th>\n",
       "      <th>PERFORM_CNS.SCORE</th>\n",
       "      <th>PRI.NO.OF.ACCTS</th>\n",
       "      <th>PRI.ACTIVE.ACCTS</th>\n",
       "      <th>PRI.OVERDUE.ACCTS</th>\n",
       "      <th>PRI.CURRENT.BALANCE</th>\n",
       "      <th>PRI.SANCTIONED.AMOUNT</th>\n",
       "      <th>SEC.NO.OF.ACCTS</th>\n",
       "      <th>SEC.ACTIVE.ACCTS</th>\n",
       "      <th>SEC.OVERDUE.ACCTS</th>\n",
       "      <th>SEC.CURRENT.BALANCE</th>\n",
       "      <th>SEC.DISBURSED.AMOUNT</th>\n",
       "      <th>PRIMARY.INSTAL.AMT</th>\n",
       "      <th>SEC.INSTAL.AMT</th>\n",
       "      <th>NEW.ACCTS.IN.LAST.SIX.MONTHS</th>\n",
       "      <th>DELINQUENT.ACCTS.IN.LAST.SIX.MONTHS</th>\n",
       "      <th>NO.OF_INQUIRIES</th>\n",
       "      <th>loan_default</th>\n",
       "      <th>AVERAGE_ACCT_AGE(mon)</th>\n",
       "      <th>CREDIT_HISTORY_LENGTH(mon)</th>\n",
       "      <th>State_ID_1</th>\n",
       "      <th>State_ID_2</th>\n",
       "      <th>State_ID_3</th>\n",
       "      <th>State_ID_4</th>\n",
       "      <th>State_ID_5</th>\n",
       "      <th>State_ID_6</th>\n",
       "      <th>State_ID_7</th>\n",
       "      <th>State_ID_8</th>\n",
       "      <th>State_ID_9</th>\n",
       "      <th>State_ID_10</th>\n",
       "      <th>State_ID_11</th>\n",
       "      <th>State_ID_12</th>\n",
       "      <th>State_ID_13</th>\n",
       "      <th>State_ID_14</th>\n",
       "      <th>State_ID_15</th>\n",
       "      <th>State_ID_16</th>\n",
       "      <th>State_ID_17</th>\n",
       "      <th>State_ID_18</th>\n",
       "    </tr>\n",
       "    <tr>\n",
       "      <th>UniqueID</th>\n",
       "      <th></th>\n",
       "      <th></th>\n",
       "      <th></th>\n",
       "      <th></th>\n",
       "      <th></th>\n",
       "      <th></th>\n",
       "      <th></th>\n",
       "      <th></th>\n",
       "      <th></th>\n",
       "      <th></th>\n",
       "      <th></th>\n",
       "      <th></th>\n",
       "      <th></th>\n",
       "      <th></th>\n",
       "      <th></th>\n",
       "      <th></th>\n",
       "      <th></th>\n",
       "      <th></th>\n",
       "      <th></th>\n",
       "      <th></th>\n",
       "      <th></th>\n",
       "      <th></th>\n",
       "      <th></th>\n",
       "      <th></th>\n",
       "      <th></th>\n",
       "      <th></th>\n",
       "      <th></th>\n",
       "      <th></th>\n",
       "      <th></th>\n",
       "      <th></th>\n",
       "      <th></th>\n",
       "      <th></th>\n",
       "      <th></th>\n",
       "      <th></th>\n",
       "      <th></th>\n",
       "      <th></th>\n",
       "      <th></th>\n",
       "      <th></th>\n",
       "      <th></th>\n",
       "      <th></th>\n",
       "      <th></th>\n",
       "      <th></th>\n",
       "      <th></th>\n",
       "      <th></th>\n",
       "      <th></th>\n",
       "      <th></th>\n",
       "    </tr>\n",
       "  </thead>\n",
       "  <tbody>\n",
       "    <tr>\n",
       "      <th>420825</th>\n",
       "      <td>50578</td>\n",
       "      <td>58400</td>\n",
       "      <td>89.550000</td>\n",
       "      <td>True</td>\n",
       "      <td>True</td>\n",
       "      <td>False</td>\n",
       "      <td>False</td>\n",
       "      <td>False</td>\n",
       "      <td>False</td>\n",
       "      <td>0</td>\n",
       "      <td>0</td>\n",
       "      <td>0</td>\n",
       "      <td>0</td>\n",
       "      <td>0</td>\n",
       "      <td>0</td>\n",
       "      <td>0</td>\n",
       "      <td>0</td>\n",
       "      <td>0</td>\n",
       "      <td>0</td>\n",
       "      <td>0</td>\n",
       "      <td>0</td>\n",
       "      <td>0</td>\n",
       "      <td>0</td>\n",
       "      <td>0</td>\n",
       "      <td>0</td>\n",
       "      <td>False</td>\n",
       "      <td>0</td>\n",
       "      <td>0</td>\n",
       "      <td>0</td>\n",
       "      <td>0</td>\n",
       "      <td>0</td>\n",
       "      <td>0</td>\n",
       "      <td>0</td>\n",
       "      <td>1</td>\n",
       "      <td>0</td>\n",
       "      <td>0</td>\n",
       "      <td>0</td>\n",
       "      <td>0</td>\n",
       "      <td>0</td>\n",
       "      <td>0</td>\n",
       "      <td>0</td>\n",
       "      <td>0</td>\n",
       "      <td>0</td>\n",
       "      <td>0</td>\n",
       "      <td>0</td>\n",
       "      <td>0</td>\n",
       "    </tr>\n",
       "    <tr>\n",
       "      <th>537409</th>\n",
       "      <td>47145</td>\n",
       "      <td>65550</td>\n",
       "      <td>73.230000</td>\n",
       "      <td>True</td>\n",
       "      <td>True</td>\n",
       "      <td>False</td>\n",
       "      <td>False</td>\n",
       "      <td>False</td>\n",
       "      <td>False</td>\n",
       "      <td>598</td>\n",
       "      <td>1</td>\n",
       "      <td>1</td>\n",
       "      <td>1</td>\n",
       "      <td>27600</td>\n",
       "      <td>50200</td>\n",
       "      <td>0</td>\n",
       "      <td>0</td>\n",
       "      <td>0</td>\n",
       "      <td>0</td>\n",
       "      <td>0</td>\n",
       "      <td>1991</td>\n",
       "      <td>0</td>\n",
       "      <td>0</td>\n",
       "      <td>1</td>\n",
       "      <td>0</td>\n",
       "      <td>True</td>\n",
       "      <td>23</td>\n",
       "      <td>23</td>\n",
       "      <td>0</td>\n",
       "      <td>0</td>\n",
       "      <td>0</td>\n",
       "      <td>0</td>\n",
       "      <td>0</td>\n",
       "      <td>1</td>\n",
       "      <td>0</td>\n",
       "      <td>0</td>\n",
       "      <td>0</td>\n",
       "      <td>0</td>\n",
       "      <td>0</td>\n",
       "      <td>0</td>\n",
       "      <td>0</td>\n",
       "      <td>0</td>\n",
       "      <td>0</td>\n",
       "      <td>0</td>\n",
       "      <td>0</td>\n",
       "      <td>0</td>\n",
       "    </tr>\n",
       "  </tbody>\n",
       "</table>\n",
       "</div>"
      ],
      "text/plain": [
       "          disbursed_amount  asset_cost       ltv  Employment.Type  Aadhar_flag  PAN_flag  VoterID_flag  Driving_flag  Passport_flag  PERFORM_CNS.SCORE  PRI.NO.OF.ACCTS  PRI.ACTIVE.ACCTS  PRI.OVERDUE.ACCTS  PRI.CURRENT.BALANCE  PRI.SANCTIONED.AMOUNT  SEC.NO.OF.ACCTS  SEC.ACTIVE.ACCTS  SEC.OVERDUE.ACCTS  SEC.CURRENT.BALANCE  SEC.DISBURSED.AMOUNT  PRIMARY.INSTAL.AMT  SEC.INSTAL.AMT  NEW.ACCTS.IN.LAST.SIX.MONTHS  DELINQUENT.ACCTS.IN.LAST.SIX.MONTHS  NO.OF_INQUIRIES  loan_default  AVERAGE_ACCT_AGE(mon)  CREDIT_HISTORY_LENGTH(mon)  State_ID_1  State_ID_2  State_ID_3  State_ID_4  State_ID_5  State_ID_6  State_ID_7  State_ID_8  State_ID_9  State_ID_10  State_ID_11  State_ID_12  State_ID_13  State_ID_14  State_ID_15  State_ID_16  State_ID_17  State_ID_18\n",
       "UniqueID                                                                                                                                                                                                                                                                                                                                                                                                                                                                                                                                                                                                                                                                                                                                                                           \n",
       "420825               50578       58400 89.550000             True         True     False         False         False          False                  0                0                 0                  0                    0                      0                0                 0                  0                    0                     0                   0               0                             0                                    0                0         False                      0                           0           0           0           0           0           0           1           0           0           0            0            0            0            0            0            0            0            0            0\n",
       "537409               47145       65550 73.230000             True         True     False         False         False          False                598                1                 1                  1                27600                  50200                0                 0                  0                    0                     0                1991               0                             0                                    1                0          True                     23                          23           0           0           0           0           0           1           0           0           0            0            0            0            0            0            0            0            0            0"
      ]
     },
     "execution_count": 11,
     "metadata": {},
     "output_type": "execute_result"
    }
   ],
   "source": [
    "loan_dummies.head(2)"
   ]
  },
  {
   "cell_type": "markdown",
   "metadata": {},
   "source": [
    "## Looking for imbalanced data"
   ]
  },
  {
   "cell_type": "code",
   "execution_count": 12,
   "metadata": {},
   "outputs": [
    {
     "data": {
      "text/plain": [
       "False   0.797941\n",
       "True    0.202059\n",
       "Name: loan_default, dtype: float64"
      ]
     },
     "execution_count": 12,
     "metadata": {},
     "output_type": "execute_result"
    }
   ],
   "source": [
    "loan_dummies.loan_default.value_counts(normalize=True)"
   ]
  },
  {
   "cell_type": "markdown",
   "metadata": {},
   "source": [
    "I'll be using `stratify` paramter for spliting the minor group of default loan with the same proportion in the train and test sets."
   ]
  },
  {
   "cell_type": "code",
   "execution_count": 13,
   "metadata": {},
   "outputs": [
    {
     "data": {
      "text/plain": [
       "((72422, 46), (18106, 46))"
      ]
     },
     "execution_count": 13,
     "metadata": {},
     "output_type": "execute_result"
    }
   ],
   "source": [
    "train, test = train_test_split(loan_dummies, test_size = 0.2, random_state=7, stratify=loan.loan_default)\n",
    "train.shape, test.shape"
   ]
  },
  {
   "cell_type": "code",
   "execution_count": 14,
   "metadata": {},
   "outputs": [
    {
     "name": "stdout",
     "output_type": "stream",
     "text": [
      "train \"loan_default\" dist:\n",
      "-------------------------\n",
      "False   0.797934\n",
      "True    0.202066\n",
      "Name: loan_default, dtype: float64\n",
      "\n",
      "\n",
      "test  \"loan_default\" dist:\n",
      "-------------------------\n",
      "False   0.797968\n",
      "True    0.202032\n",
      "Name: loan_default, dtype: float64\n"
     ]
    }
   ],
   "source": [
    "print(f'train \"loan_default\" dist:\\n-------------------------\\n{train.loan_default.value_counts(normalize=True)}\\n\\n')\n",
    "print(f'test  \"loan_default\" dist:\\n-------------------------\\n{test.loan_default.value_counts(normalize=True)}')"
   ]
  },
  {
   "cell_type": "markdown",
   "metadata": {},
   "source": [
    "### Basic modeling for reference:"
   ]
  },
  {
   "cell_type": "code",
   "execution_count": 15,
   "metadata": {},
   "outputs": [],
   "source": [
    "X_train = train.drop(columns='loan_default')\n",
    "y_train = train.loan_default\n",
    "\n",
    "X_test = test.drop(columns='loan_default')\n",
    "y_test = test.loan_default"
   ]
  },
  {
   "cell_type": "code",
   "execution_count": 16,
   "metadata": {},
   "outputs": [],
   "source": [
    "clf = LogisticRegression().fit(X_train, y_train)\n",
    "y_train_pred = clf.predict(X_train)\n",
    "y_test_pred = clf.predict(X_test)"
   ]
  },
  {
   "cell_type": "code",
   "execution_count": 17,
   "metadata": {},
   "outputs": [
    {
     "name": "stdout",
     "output_type": "stream",
     "text": [
      "Train: \n",
      "------------\n",
      "              precision    recall  f1-score   support\n",
      "\n",
      "       False       0.80      1.00      0.89     57788\n",
      "        True       0.00      0.00      0.00     14634\n",
      "\n",
      "   micro avg       0.80      0.80      0.80     72422\n",
      "   macro avg       0.40      0.50      0.44     72422\n",
      "weighted avg       0.64      0.80      0.71     72422\n",
      "\n",
      "\n",
      "\n",
      "Test: \n",
      "------------\n",
      "              precision    recall  f1-score   support\n",
      "\n",
      "       False       0.80      1.00      0.89     14448\n",
      "        True       0.00      0.00      0.00      3658\n",
      "\n",
      "   micro avg       0.80      0.80      0.80     18106\n",
      "   macro avg       0.40      0.50      0.44     18106\n",
      "weighted avg       0.64      0.80      0.71     18106\n",
      "\n"
     ]
    }
   ],
   "source": [
    "print('Train: \\n------------')\n",
    "print(classification_report(y_train, y_train_pred, clf.classes_))\n",
    "print('\\n')\n",
    "print('Test: \\n------------')\n",
    "print(classification_report(y_test, y_test_pred, clf.classes_))"
   ]
  },
  {
   "cell_type": "code",
   "execution_count": 18,
   "metadata": {},
   "outputs": [
    {
     "name": "stdout",
     "output_type": "stream",
     "text": [
      "       False  True \n",
      "False  14448      0\n",
      "True    3658      0\n"
     ]
    }
   ],
   "source": [
    "print(pd.DataFrame(confusion_matrix(y_test, y_test_pred),index=clf.classes_, columns=clf.classes_))"
   ]
  },
  {
   "cell_type": "markdown",
   "metadata": {},
   "source": [
    "> **The model predicted all the samples as non-default loans - unacceptable for the bussiness. I'll try to balance between the data classes**"
   ]
  },
  {
   "cell_type": "markdown",
   "metadata": {},
   "source": [
    "### balaced classes model for reference:\n",
    "\n",
    "**Adding more samples for minor class:**\n",
    "\n",
    "(only for the train set so it won't effect the test results!)"
   ]
  },
  {
   "cell_type": "code",
   "execution_count": 19,
   "metadata": {},
   "outputs": [
    {
     "name": "stdout",
     "output_type": "stream",
     "text": [
      "(57788, 46)\n",
      "(14634, 46)\n"
     ]
    }
   ],
   "source": [
    "train_major = train[train.loan_default==False]\n",
    "print(train_major.shape)\n",
    "train_minor = train[train.loan_default==True]\n",
    "print(train_minor.shape)"
   ]
  },
  {
   "cell_type": "code",
   "execution_count": 20,
   "metadata": {},
   "outputs": [
    {
     "name": "stdout",
     "output_type": "stream",
     "text": [
      "(116324, 46)\n"
     ]
    },
    {
     "data": {
      "text/plain": [
       "True    0.503215\n",
       "False   0.496785\n",
       "Name: loan_default, dtype: float64"
      ]
     },
     "execution_count": 20,
     "metadata": {},
     "output_type": "execute_result"
    }
   ],
   "source": [
    "train_balanced = pd.concat([train_minor.sample(frac=4, replace=True),\n",
    "                            train_major])\n",
    "\n",
    "print(train_balanced.shape)\n",
    "train_balanced.loan_default.value_counts(normalize=True)"
   ]
  },
  {
   "cell_type": "markdown",
   "metadata": {},
   "source": [
    "Now the data set is balanced. I'll try to run the same basic model again."
   ]
  },
  {
   "cell_type": "markdown",
   "metadata": {},
   "source": [
    "---"
   ]
  },
  {
   "cell_type": "markdown",
   "metadata": {},
   "source": [
    "## Logistic Regression classifier as base model:"
   ]
  },
  {
   "cell_type": "code",
   "execution_count": 21,
   "metadata": {},
   "outputs": [],
   "source": [
    "X_train = train_balanced.drop(columns='loan_default')\n",
    "y_train = train_balanced.loan_default\n",
    "\n",
    "X_test = test.drop(columns='loan_default')\n",
    "y_test = test.loan_default"
   ]
  },
  {
   "cell_type": "code",
   "execution_count": 22,
   "metadata": {},
   "outputs": [],
   "source": [
    "%%time\n",
    "clf = LogisticRegression().fit(X_train, y_train)\n",
    "y_train_pred = clf.predict(X_train)\n",
    "y_test_pred = clf.predict(X_test)"
   ]
  },
  {
   "cell_type": "code",
   "execution_count": 23,
   "metadata": {},
   "outputs": [
    {
     "name": "stdout",
     "output_type": "stream",
     "text": [
      "Train: \n",
      "------------\n",
      "              precision    recall  f1-score   support\n",
      "\n",
      "       False       0.58      0.50      0.54     57788\n",
      "        True       0.57      0.64      0.60     58536\n",
      "\n",
      "   micro avg       0.57      0.57      0.57    116324\n",
      "   macro avg       0.57      0.57      0.57    116324\n",
      "weighted avg       0.57      0.57      0.57    116324\n",
      "\n",
      "-----\n",
      "Test: \n",
      "------------\n",
      "              precision    recall  f1-score   support\n",
      "\n",
      "       False       0.85      0.51      0.63     14448\n",
      "        True       0.25      0.65      0.36      3658\n",
      "\n",
      "   micro avg       0.53      0.53      0.53     18106\n",
      "   macro avg       0.55      0.58      0.50     18106\n",
      "weighted avg       0.73      0.53      0.58     18106\n",
      "\n"
     ]
    }
   ],
   "source": [
    "print('Train: \\n------------')\n",
    "print(classification_report(y_train, y_train_pred, clf.classes_))\n",
    "print('-----')\n",
    "print('Test: \\n------------')\n",
    "print(classification_report(y_test, y_test_pred, clf.classes_))"
   ]
  },
  {
   "cell_type": "code",
   "execution_count": 24,
   "metadata": {},
   "outputs": [
    {
     "name": "stdout",
     "output_type": "stream",
     "text": [
      "       False  True \n",
      "False   7300   7148\n",
      "True    1281   2377\n"
     ]
    }
   ],
   "source": [
    "cnf_matrix = pd.DataFrame(confusion_matrix(y_test, y_test_pred),index=clf.classes_, columns=clf.classes_)\n",
    "print(cnf_matrix)"
   ]
  },
  {
   "cell_type": "markdown",
   "metadata": {},
   "source": [
    "> After balancing the clasess, the model performs better but still can do better. I'll run other models and tune hyperparamteres for reaching better results"
   ]
  },
  {
   "cell_type": "markdown",
   "metadata": {},
   "source": [
    "### (basic) Random Forest"
   ]
  },
  {
   "cell_type": "code",
   "execution_count": 28,
   "metadata": {},
   "outputs": [],
   "source": [
    "clf = RandomForestClassifier(n_estimators=100, min_samples_leaf=50,\n",
    "                             n_jobs=-1).fit(X_train, y_train)\n",
    "y_train_pred = clf.predict(X_train)\n",
    "y_test_pred = clf.predict(X_test)"
   ]
  },
  {
   "cell_type": "code",
   "execution_count": 29,
   "metadata": {},
   "outputs": [
    {
     "data": {
      "text/html": [
       "<div>\n",
       "<style scoped>\n",
       "    .dataframe tbody tr th:only-of-type {\n",
       "        vertical-align: middle;\n",
       "    }\n",
       "\n",
       "    .dataframe tbody tr th {\n",
       "        vertical-align: top;\n",
       "    }\n",
       "\n",
       "    .dataframe thead th {\n",
       "        text-align: right;\n",
       "    }\n",
       "</style>\n",
       "<table border=\"1\" class=\"dataframe\">\n",
       "  <thead>\n",
       "    <tr style=\"text-align: right;\">\n",
       "      <th></th>\n",
       "      <th>importance</th>\n",
       "    </tr>\n",
       "  </thead>\n",
       "  <tbody>\n",
       "    <tr>\n",
       "      <th>ltv</th>\n",
       "      <td>0.176323</td>\n",
       "    </tr>\n",
       "    <tr>\n",
       "      <th>disbursed_amount</th>\n",
       "      <td>0.148643</td>\n",
       "    </tr>\n",
       "    <tr>\n",
       "      <th>PERFORM_CNS.SCORE</th>\n",
       "      <td>0.093479</td>\n",
       "    </tr>\n",
       "    <tr>\n",
       "      <th>asset_cost</th>\n",
       "      <td>0.087874</td>\n",
       "    </tr>\n",
       "    <tr>\n",
       "      <th>PRI.SANCTIONED.AMOUNT</th>\n",
       "      <td>0.060156</td>\n",
       "    </tr>\n",
       "    <tr>\n",
       "      <th>PRI.CURRENT.BALANCE</th>\n",
       "      <td>0.052539</td>\n",
       "    </tr>\n",
       "    <tr>\n",
       "      <th>CREDIT_HISTORY_LENGTH(mon)</th>\n",
       "      <td>0.042664</td>\n",
       "    </tr>\n",
       "    <tr>\n",
       "      <th>PRIMARY.INSTAL.AMT</th>\n",
       "      <td>0.041761</td>\n",
       "    </tr>\n",
       "    <tr>\n",
       "      <th>State_ID_13</th>\n",
       "      <td>0.036973</td>\n",
       "    </tr>\n",
       "    <tr>\n",
       "      <th>AVERAGE_ACCT_AGE(mon)</th>\n",
       "      <td>0.033609</td>\n",
       "    </tr>\n",
       "  </tbody>\n",
       "</table>\n",
       "</div>"
      ],
      "text/plain": [
       "                            importance\n",
       "ltv                           0.176323\n",
       "disbursed_amount              0.148643\n",
       "PERFORM_CNS.SCORE             0.093479\n",
       "asset_cost                    0.087874\n",
       "PRI.SANCTIONED.AMOUNT         0.060156\n",
       "PRI.CURRENT.BALANCE           0.052539\n",
       "CREDIT_HISTORY_LENGTH(mon)    0.042664\n",
       "PRIMARY.INSTAL.AMT            0.041761\n",
       "State_ID_13                   0.036973\n",
       "AVERAGE_ACCT_AGE(mon)         0.033609"
      ]
     },
     "execution_count": 29,
     "metadata": {},
     "output_type": "execute_result"
    }
   ],
   "source": [
    "feature_importances = pd.DataFrame(clf.feature_importances_,\n",
    "                                   index = X_train.columns,\n",
    "                                    columns=['importance']).sort_values('importance',ascending=False)\n",
    "\n",
    "feature_importances.head(10)"
   ]
  },
  {
   "cell_type": "markdown",
   "metadata": {},
   "source": [
    "Random Forest results are easy to interpret. The above table shows the importance of each feature to determine if the loan would default."
   ]
  },
  {
   "cell_type": "code",
   "execution_count": 30,
   "metadata": {},
   "outputs": [
    {
     "name": "stdout",
     "output_type": "stream",
     "text": [
      "Train: \n",
      "------------\n",
      "              precision    recall  f1-score   support\n",
      "\n",
      "       False       0.68      0.62      0.65     57788\n",
      "        True       0.66      0.72      0.68     58536\n",
      "\n",
      "   micro avg       0.67      0.67      0.67    116324\n",
      "   macro avg       0.67      0.67      0.67    116324\n",
      "weighted avg       0.67      0.67      0.67    116324\n",
      "\n",
      "\n",
      "\n",
      "Test: \n",
      "------------\n",
      "              precision    recall  f1-score   support\n",
      "\n",
      "       False       0.86      0.60      0.71     14448\n",
      "        True       0.28      0.62      0.39      3658\n",
      "\n",
      "   micro avg       0.60      0.60      0.60     18106\n",
      "   macro avg       0.57      0.61      0.55     18106\n",
      "weighted avg       0.74      0.60      0.64     18106\n",
      "\n"
     ]
    }
   ],
   "source": [
    "print('Train: \\n------------')\n",
    "print(classification_report(y_train, y_train_pred, clf.classes_))\n",
    "print('\\n')\n",
    "print('Test: \\n------------')\n",
    "print(classification_report(y_test, y_test_pred, clf.classes_))"
   ]
  },
  {
   "cell_type": "code",
   "execution_count": 31,
   "metadata": {},
   "outputs": [
    {
     "name": "stdout",
     "output_type": "stream",
     "text": [
      "       False  True \n",
      "False   8634   5814\n",
      "True    1391   2267\n"
     ]
    }
   ],
   "source": [
    "print(pd.DataFrame(confusion_matrix(y_test, y_test_pred),index=clf.classes_, columns=clf.classes_))"
   ]
  },
  {
   "cell_type": "markdown",
   "metadata": {},
   "source": [
    "## Building custom scoring function for the bussiness"
   ]
  },
  {
   "cell_type": "markdown",
   "metadata": {},
   "source": [
    "Accuracy score is simply a ratio of correctly predicted observation to the total observations. \n",
    "It doesn't always the best way to assess model performance.\n",
    "As said before, I prefer better Recall score over Precision (f1 score represent beta=1 for equale impartance of recall and precision). Let's assume the bussiness had a research and found that **the fbeta in which the costs of recall and precision erorrs are balanced is 3**\n",
    "\n",
    "According to this senario, I'll build a new scorer for assess the performance of a model."
   ]
  },
  {
   "cell_type": "code",
   "execution_count": 91,
   "metadata": {},
   "outputs": [],
   "source": [
    "from sklearn.metrics import precision_score, recall_score, make_scorer"
   ]
  },
  {
   "cell_type": "code",
   "execution_count": 92,
   "metadata": {},
   "outputs": [],
   "source": [
    "def fbeta(y_true, y_pred, beta=3):\n",
    "    p = precision_score(y_true, y_pred)\n",
    "    r = recall_score(y_true, y_pred)\n",
    "    return (1+beta**2)*(p*r)/((beta**2*p)+r)"
   ]
  },
  {
   "cell_type": "code",
   "execution_count": 73,
   "metadata": {},
   "outputs": [],
   "source": [
    "fbeta_scorer = make_scorer(fbeta)"
   ]
  },
  {
   "cell_type": "markdown",
   "metadata": {},
   "source": [
    "### Using the new scorer with Logistic Regression:"
   ]
  },
  {
   "cell_type": "code",
   "execution_count": 74,
   "metadata": {},
   "outputs": [],
   "source": [
    "lr = GridSearchCV(LogisticRegression(),param_grid={'C':[1,5,10,15]}, scoring=fbeta_scorer, n_jobs=-1)\n",
    "lr.fit(X_train, y_train)\n",
    "\n",
    "lr_model = lr.best_estimator_\n",
    "y_train_pred = lr_model.predict(X_train)\n",
    "y_test_pred = lr_model.predict(X_test)"
   ]
  },
  {
   "cell_type": "code",
   "execution_count": 75,
   "metadata": {},
   "outputs": [
    {
     "name": "stdout",
     "output_type": "stream",
     "text": [
      "Train: \n",
      "------------\n",
      "              precision    recall  f1-score   support\n",
      "\n",
      "       False       0.58      0.45      0.51     57788\n",
      "        True       0.56      0.68      0.61     58536\n",
      "\n",
      "   micro avg       0.57      0.57      0.57    116324\n",
      "   macro avg       0.57      0.56      0.56    116324\n",
      "weighted avg       0.57      0.57      0.56    116324\n",
      "\n",
      "-----\n",
      "Test: \n",
      "------------\n",
      "              precision    recall  f1-score   support\n",
      "\n",
      "       False       0.85      0.46      0.59     14448\n",
      "        True       0.24      0.69      0.36      3658\n",
      "\n",
      "   micro avg       0.50      0.50      0.50     18106\n",
      "   macro avg       0.55      0.57      0.48     18106\n",
      "weighted avg       0.73      0.50      0.55     18106\n",
      "\n"
     ]
    }
   ],
   "source": [
    "print('Train: \\n------------')\n",
    "print(classification_report(y_train, y_train_pred, lr.classes_))\n",
    "print('\\n')\n",
    "print('Test: \\n------------')\n",
    "print(classification_report(y_test, y_test_pred, lr.classes_))"
   ]
  },
  {
   "cell_type": "code",
   "execution_count": 76,
   "metadata": {},
   "outputs": [
    {
     "name": "stdout",
     "output_type": "stream",
     "text": [
      "       False  True \n",
      "False   6584   7864\n",
      "True    1130   2528\n"
     ]
    }
   ],
   "source": [
    "cnf_matrix = pd.DataFrame(confusion_matrix(y_test, y_test_pred),index=lr.classes_, columns=lr.classes_)\n",
    "print(cnf_matrix)"
   ]
  },
  {
   "cell_type": "code",
   "execution_count": 185,
   "metadata": {},
   "outputs": [],
   "source": [
    "f_beta_LM = fbeta(y_test, y_test_pred)"
   ]
  },
  {
   "cell_type": "markdown",
   "metadata": {},
   "source": [
    "> Indeed the recall score improved on expense of precision score."
   ]
  },
  {
   "cell_type": "markdown",
   "metadata": {},
   "source": [
    "### Random Forest with GridSearch and custom scoring:"
   ]
  },
  {
   "cell_type": "code",
   "execution_count": 101,
   "metadata": {},
   "outputs": [],
   "source": [
    "rf = GridSearchCV(RandomForestClassifier(n_estimators=100),\n",
    "                  param_grid={'min_samples_leaf': [30,40,45,50],'criterion':['gini','entropy']},\n",
    "                  scoring=fbeta_scorer, n_jobs=-1)\n",
    "rf.fit(X_train, y_train)\n",
    "\n",
    "rf_model = rf.best_estimator_\n",
    "y_train_pred = rf_model.predict(X_train)\n",
    "y_test_pred = rf_model.predict(X_test)"
   ]
  },
  {
   "cell_type": "code",
   "execution_count": 102,
   "metadata": {},
   "outputs": [
    {
     "data": {
      "text/plain": [
       "{'criterion': 'entropy', 'min_samples_leaf': 30}"
      ]
     },
     "execution_count": 102,
     "metadata": {},
     "output_type": "execute_result"
    }
   ],
   "source": [
    "rf.best_params_"
   ]
  },
  {
   "cell_type": "code",
   "execution_count": 110,
   "metadata": {},
   "outputs": [
    {
     "data": {
      "text/plain": [
       "RandomForestClassifier(bootstrap=True, class_weight=None, criterion='entropy',\n",
       "            max_depth=None, max_features='auto', max_leaf_nodes=None,\n",
       "            min_impurity_decrease=0.0, min_impurity_split=None,\n",
       "            min_samples_leaf=30, min_samples_split=2,\n",
       "            min_weight_fraction_leaf=0.0, n_estimators=100, n_jobs=None,\n",
       "            oob_score=False, random_state=None, verbose=0,\n",
       "            warm_start=False)"
      ]
     },
     "execution_count": 110,
     "metadata": {},
     "output_type": "execute_result"
    }
   ],
   "source": [
    "rf.best_estimator_"
   ]
  },
  {
   "cell_type": "code",
   "execution_count": 103,
   "metadata": {},
   "outputs": [
    {
     "name": "stdout",
     "output_type": "stream",
     "text": [
      "Train: \n",
      "------------\n",
      "              precision    recall  f1-score   support\n",
      "\n",
      "       False       0.72      0.65      0.69     57788\n",
      "        True       0.69      0.75      0.72     58536\n",
      "\n",
      "   micro avg       0.70      0.70      0.70    116324\n",
      "   macro avg       0.71      0.70      0.70    116324\n",
      "weighted avg       0.70      0.70      0.70    116324\n",
      "\n",
      "\n",
      "\n",
      "Test: \n",
      "------------\n",
      "              precision    recall  f1-score   support\n",
      "\n",
      "       False       0.86      0.62      0.72     14448\n",
      "        True       0.28      0.59      0.38      3658\n",
      "\n",
      "   micro avg       0.62      0.62      0.62     18106\n",
      "   macro avg       0.57      0.61      0.55     18106\n",
      "weighted avg       0.74      0.62      0.65     18106\n",
      "\n"
     ]
    }
   ],
   "source": [
    "print('Train: \\n------------')\n",
    "print(classification_report(y_train, y_train_pred, rf.classes_))\n",
    "print('\\n')\n",
    "print('Test: \\n------------')\n",
    "print(classification_report(y_test, y_test_pred, rf.classes_))"
   ]
  },
  {
   "cell_type": "code",
   "execution_count": 104,
   "metadata": {},
   "outputs": [
    {
     "name": "stdout",
     "output_type": "stream",
     "text": [
      "       False  True \n",
      "False   8992   5456\n",
      "True    1490   2168\n"
     ]
    }
   ],
   "source": [
    "cnf_matrix = pd.DataFrame(confusion_matrix(y_test, y_test_pred),index=rf.classes_, columns=rf.classes_)\n",
    "print(cnf_matrix)"
   ]
  },
  {
   "cell_type": "code",
   "execution_count": 183,
   "metadata": {},
   "outputs": [],
   "source": [
    "f_beta_RF = fbeta(y_test, y_test_pred)"
   ]
  },
  {
   "cell_type": "markdown",
   "metadata": {},
   "source": [
    "**NOTE:** Not presented here all steps I did for hyper parameters tuning to evoide over fitting of the train set."
   ]
  },
  {
   "cell_type": "markdown",
   "metadata": {},
   "source": [
    "### SVM:\n",
    "\n",
    "All kernel methods of this model are based on distance so scaling is required. Also, because it's relatively slow, I'll reduce the dimensions of the dataset."
   ]
  },
  {
   "cell_type": "markdown",
   "metadata": {},
   "source": [
    "##### PCA:"
   ]
  },
  {
   "cell_type": "code",
   "execution_count": 107,
   "metadata": {},
   "outputs": [
    {
     "data": {
      "text/plain": [
       "GridSearchCV(cv=5, error_score='raise-deprecating',\n",
       "       estimator=Pipeline(memory=None,\n",
       "     steps=[('scaler', MinMaxScaler(copy=True, feature_range=(0, 1))), ('pca', PCA(copy=True, iterated_power='auto', n_components=30, random_state=None,\n",
       "  svd_solver='auto', tol=0.0, whiten=False)), ('svm', SVC(C=1.0, cache_size=200, class_weight=None, coef0=0.0,\n",
       "  decision_function_shape='ovr', degree=3, gamma='auto_deprecated',\n",
       "  kernel='rbf', max_iter=-1, probability=False, random_state=None,\n",
       "  shrinking=True, tol=0.001, verbose=False))]),\n",
       "       fit_params=None, iid='warn', n_jobs=-1,\n",
       "       param_grid={'svm__C': [1, 10, 100, 1000], 'svm__kernel': ['rbf', 'sigmoid']},\n",
       "       pre_dispatch='2*n_jobs', refit=True, return_train_score='warn',\n",
       "       scoring=make_scorer(fbeta), verbose=0)"
      ]
     },
     "execution_count": 107,
     "metadata": {},
     "output_type": "execute_result"
    }
   ],
   "source": [
    "steps = [('scaler',MinMaxScaler()),('pca', PCA(n_components=30)), ('svm', SVC())]\n",
    "\n",
    "pipe = Pipeline(steps=steps)\n",
    "\n",
    "params_grid = {'svm__C': [1, 10, 100, 1000],\n",
    "               'svm__kernel': ['rbf', 'sigmoid']}\n",
    "\n",
    "gs_svm = GridSearchCV(pipe, params_grid, n_jobs=-1, scoring=fbeta_scorer, cv=5)\n",
    "gs_svm.fit(X_train, y_train)"
   ]
  },
  {
   "cell_type": "code",
   "execution_count": 108,
   "metadata": {},
   "outputs": [
    {
     "data": {
      "text/plain": [
       "{'svm__C': 1, 'svm__kernel': 'sigmoid'}"
      ]
     },
     "execution_count": 108,
     "metadata": {},
     "output_type": "execute_result"
    }
   ],
   "source": [
    "gs_svm.best_params_"
   ]
  },
  {
   "cell_type": "code",
   "execution_count": 111,
   "metadata": {},
   "outputs": [],
   "source": [
    "svm_model = gs_svm.best_estimator_\n",
    "\n",
    "y_train_pred_svm = svm_model.predict(X_train)\n",
    "y_test_pred_svm = svm_model.predict(X_test)"
   ]
  },
  {
   "cell_type": "code",
   "execution_count": 112,
   "metadata": {},
   "outputs": [
    {
     "name": "stdout",
     "output_type": "stream",
     "text": [
      "Train: \n",
      "------------\n",
      "              precision    recall  f1-score   support\n",
      "\n",
      "       False       0.60      0.46      0.52     57788\n",
      "        True       0.57      0.71      0.63     58536\n",
      "\n",
      "   micro avg       0.58      0.58      0.58    116324\n",
      "   macro avg       0.59      0.58      0.57    116324\n",
      "weighted avg       0.59      0.58      0.57    116324\n",
      "\n",
      "\n",
      "\n",
      "Test: \n",
      "------------\n",
      "              precision    recall  f1-score   support\n",
      "\n",
      "       False       0.86      0.46      0.60     14448\n",
      "        True       0.25      0.70      0.37      3658\n",
      "\n",
      "   micro avg       0.51      0.51      0.51     18106\n",
      "   macro avg       0.55      0.58      0.48     18106\n",
      "weighted avg       0.73      0.51      0.55     18106\n",
      "\n"
     ]
    }
   ],
   "source": [
    "print('Train: \\n------------')\n",
    "print(classification_report(y_train, y_train_pred_svm, svm_model.classes_))\n",
    "print('\\n')\n",
    "print('Test: \\n------------')\n",
    "print(classification_report(y_test, y_test_pred_svm, svm_model.classes_))"
   ]
  },
  {
   "cell_type": "code",
   "execution_count": 113,
   "metadata": {},
   "outputs": [
    {
     "name": "stdout",
     "output_type": "stream",
     "text": [
      "       False  True \n",
      "False   6600   7848\n",
      "True    1089   2569\n"
     ]
    }
   ],
   "source": [
    "print(pd.DataFrame(confusion_matrix(y_test, y_test_pred_svm),\n",
    "                   index=svm_model.classes_, columns=svm_model.classes_))"
   ]
  },
  {
   "cell_type": "code",
   "execution_count": 178,
   "metadata": {},
   "outputs": [],
   "source": [
    "f_beta_SVM = fbeta(y_test, y_test_pred_svm)"
   ]
  },
  {
   "cell_type": "markdown",
   "metadata": {},
   "source": [
    "> SMV (along with PCA) provides relatively good results of recall score - 70% and mild  precision score. So far, this is the best performance model for classifying defaults."
   ]
  },
  {
   "cell_type": "markdown",
   "metadata": {},
   "source": [
    "## Gaussian Naive Bayes\n",
    "\n",
    "Usually this model doesn't provieds the best result among other models but its fast and could suprise in a certain dataset\\scorer."
   ]
  },
  {
   "cell_type": "code",
   "execution_count": 114,
   "metadata": {},
   "outputs": [],
   "source": [
    "from sklearn.naive_bayes import GaussianNB"
   ]
  },
  {
   "cell_type": "code",
   "execution_count": 115,
   "metadata": {},
   "outputs": [],
   "source": [
    "steps = [('scaler',StandardScaler()),('gnb', GaussianNB())]\n",
    "\n",
    "pipe = Pipeline(steps=steps)\n",
    "\n",
    "gnb_model = pipe.fit(X_train, y_train)"
   ]
  },
  {
   "cell_type": "code",
   "execution_count": 116,
   "metadata": {},
   "outputs": [],
   "source": [
    "y_train_pred = gnb_model.predict(X_train)\n",
    "y_test_pred_gnb = gnb_model.predict(X_test)"
   ]
  },
  {
   "cell_type": "code",
   "execution_count": 117,
   "metadata": {},
   "outputs": [
    {
     "name": "stdout",
     "output_type": "stream",
     "text": [
      "Train: \n",
      "------------\n",
      "              precision    recall  f1-score   support\n",
      "\n",
      "       False       0.61      0.16      0.25     57788\n",
      "        True       0.52      0.90      0.66     58536\n",
      "\n",
      "   micro avg       0.53      0.53      0.53    116324\n",
      "   macro avg       0.57      0.53      0.46    116324\n",
      "weighted avg       0.57      0.53      0.46    116324\n",
      "\n",
      "\n",
      "\n",
      "Test: \n",
      "------------\n",
      "              precision    recall  f1-score   support\n",
      "\n",
      "       False       0.85      0.16      0.27     14448\n",
      "        True       0.21      0.89      0.34      3658\n",
      "\n",
      "   micro avg       0.31      0.31      0.31     18106\n",
      "   macro avg       0.53      0.53      0.31     18106\n",
      "weighted avg       0.72      0.31      0.28     18106\n",
      "\n"
     ]
    }
   ],
   "source": [
    "print('Train: \\n------------')\n",
    "print(classification_report(y_train, y_train_pred_gnb, gnb_model.classes_))\n",
    "print('\\n')\n",
    "print('Test: \\n------------')\n",
    "print(classification_report(y_test, y_test_pred_gnb, gnb_model.classes_))"
   ]
  },
  {
   "cell_type": "code",
   "execution_count": 118,
   "metadata": {},
   "outputs": [
    {
     "name": "stdout",
     "output_type": "stream",
     "text": [
      "       False  True \n",
      "False   2303  12145\n",
      "True     391   3267\n"
     ]
    }
   ],
   "source": [
    "print(pd.DataFrame(confusion_matrix(y_test, y_test_pred_gnb),\n",
    "                   index=gnb_model.classes_, columns=gnb_model.classes_))"
   ]
  },
  {
   "cell_type": "code",
   "execution_count": 176,
   "metadata": {},
   "outputs": [],
   "source": [
    "f_beta_GNB = fbeta(y_test, y_test_pred_gnb)\n",
    "f_beta_GNB"
   ]
  },
  {
   "cell_type": "markdown",
   "metadata": {},
   "source": [
    "> Gaussian Naive Bayes model provides great recall scores for True default values (~90%) but very low precision performance - almost like labelling all samples as True default. It mean that too many unnecessary check up calls, meetings and paper work will be done for good borrowers."
   ]
  },
  {
   "cell_type": "markdown",
   "metadata": {},
   "source": [
    "### Gradient boosting"
   ]
  },
  {
   "cell_type": "markdown",
   "metadata": {},
   "source": [
    "This kind of model fit a sequence of weak learners (AdaBoost) so I'll trim the trees with max depth of only 3."
   ]
  },
  {
   "cell_type": "code",
   "execution_count": 127,
   "metadata": {},
   "outputs": [
    {
     "name": "stdout",
     "output_type": "stream",
     "text": [
      "Wall time: 8min 54s\n"
     ]
    }
   ],
   "source": [
    "from sklearn.ensemble import GradientBoostingClassifier\n",
    "\n",
    "gb = GridSearchCV(GradientBoostingClassifier(n_estimators=200),\n",
    "                  param_grid={'max_depth': [3,5],'learning_rate':[0.01,0.03,0.05]},\n",
    "                  scoring=fbeta_scorer, n_jobs=-1, cv=5)\n",
    "\n",
    "gb.fit(X_train, y_train)"
   ]
  },
  {
   "cell_type": "code",
   "execution_count": 130,
   "metadata": {},
   "outputs": [
    {
     "data": {
      "text/plain": [
       "{'learning_rate': 0.05, 'max_depth': 5}"
      ]
     },
     "execution_count": 130,
     "metadata": {},
     "output_type": "execute_result"
    }
   ],
   "source": [
    "gb.best_params_"
   ]
  },
  {
   "cell_type": "code",
   "execution_count": 129,
   "metadata": {},
   "outputs": [
    {
     "name": "stdout",
     "output_type": "stream",
     "text": [
      "Wall time: 759 ms\n"
     ]
    }
   ],
   "source": [
    "%%time\n",
    "gb_model = gb.best_estimator_\n",
    "\n",
    "y_train_pred = gb.predict(X_train)\n",
    "y_test_pred = gb.predict(X_test)"
   ]
  },
  {
   "cell_type": "code",
   "execution_count": 131,
   "metadata": {},
   "outputs": [
    {
     "name": "stdout",
     "output_type": "stream",
     "text": [
      "Train: \n",
      "------------\n",
      "              precision    recall  f1-score   support\n",
      "\n",
      "       False       0.61      0.16      0.25     57788\n",
      "        True       0.52      0.90      0.66     58536\n",
      "\n",
      "   micro avg       0.53      0.53      0.53    116324\n",
      "   macro avg       0.57      0.53      0.46    116324\n",
      "weighted avg       0.57      0.53      0.46    116324\n",
      "\n",
      "\n",
      "\n",
      "Test: \n",
      "------------\n",
      "              precision    recall  f1-score   support\n",
      "\n",
      "       False       0.85      0.16      0.27     14448\n",
      "        True       0.21      0.89      0.34      3658\n",
      "\n",
      "   micro avg       0.31      0.31      0.31     18106\n",
      "   macro avg       0.53      0.53      0.31     18106\n",
      "weighted avg       0.72      0.31      0.28     18106\n",
      "\n"
     ]
    }
   ],
   "source": [
    "print('Train: \\n------------')\n",
    "print(classification_report(y_train, y_train_pred_gnb, gnb_model.classes_))\n",
    "print('\\n')\n",
    "print('Test: \\n------------')\n",
    "print(classification_report(y_test, y_test_pred_gnb, gnb_model.classes_))"
   ]
  },
  {
   "cell_type": "code",
   "execution_count": 132,
   "metadata": {},
   "outputs": [
    {
     "name": "stdout",
     "output_type": "stream",
     "text": [
      "       False  True \n",
      "False   8289   6159\n",
      "True    1273   2385\n"
     ]
    }
   ],
   "source": [
    "print(pd.DataFrame(confusion_matrix(y_test, y_test_pred),\n",
    "                   index=gnb_model.classes_, columns=gnb_model.classes_))"
   ]
  },
  {
   "cell_type": "code",
   "execution_count": 175,
   "metadata": {},
   "outputs": [
    {
     "data": {
      "text/plain": [
       "0.5751700188105918"
      ]
     },
     "execution_count": 175,
     "metadata": {},
     "output_type": "execute_result"
    }
   ],
   "source": [
    "f_beta_GB = fbeta(y_test, y_test_pred)\n",
    "f_beta_GB"
   ]
  },
  {
   "cell_type": "markdown",
   "metadata": {},
   "source": [
    "## Comparing the results using ROC\n",
    "\n",
    "So far I covered manually the model scores and confusion matrix to determine which model outperformed the other. Another way to compare between models is using ROC curve and the area under the curve (AUC). As for ROC, FPR and the TPR are evaluated for every probability threshold, and the result is a graph of the trade-off between TPR and FPR. Whereas larger AUC represent a better model.\n",
    "\n",
    "**Note:** In any case, if enough time provided, I would prefer manual interpretation of the result for choosing the best fit for the business case."
   ]
  },
  {
   "cell_type": "markdown",
   "metadata": {},
   "source": [
    "### ROC example"
   ]
  },
  {
   "cell_type": "code",
   "execution_count": 140,
   "metadata": {},
   "outputs": [],
   "source": [
    "from sklearn.metrics import roc_curve, roc_auc_score"
   ]
  },
  {
   "cell_type": "code",
   "execution_count": 170,
   "metadata": {},
   "outputs": [
    {
     "data": {
      "text/html": [
       "<div>\n",
       "<style scoped>\n",
       "    .dataframe tbody tr th:only-of-type {\n",
       "        vertical-align: middle;\n",
       "    }\n",
       "\n",
       "    .dataframe tbody tr th {\n",
       "        vertical-align: top;\n",
       "    }\n",
       "\n",
       "    .dataframe thead th {\n",
       "        text-align: right;\n",
       "    }\n",
       "</style>\n",
       "<table border=\"1\" class=\"dataframe\">\n",
       "  <thead>\n",
       "    <tr style=\"text-align: right;\">\n",
       "      <th></th>\n",
       "      <th>False</th>\n",
       "      <th>True</th>\n",
       "    </tr>\n",
       "  </thead>\n",
       "  <tbody>\n",
       "    <tr>\n",
       "      <th>0</th>\n",
       "      <td>0.046981</td>\n",
       "      <td>0.953019</td>\n",
       "    </tr>\n",
       "    <tr>\n",
       "      <th>1</th>\n",
       "      <td>0.000802</td>\n",
       "      <td>0.999198</td>\n",
       "    </tr>\n",
       "    <tr>\n",
       "      <th>2</th>\n",
       "      <td>0.022179</td>\n",
       "      <td>0.977821</td>\n",
       "    </tr>\n",
       "  </tbody>\n",
       "</table>\n",
       "</div>"
      ],
      "text/plain": [
       "     False    True \n",
       "0 0.046981 0.953019\n",
       "1 0.000802 0.999198\n",
       "2 0.022179 0.977821"
      ]
     },
     "execution_count": 170,
     "metadata": {},
     "output_type": "execute_result"
    }
   ],
   "source": [
    "y_pred_probs = gb.predict_proba(X_test)\n",
    "pd.DataFrame(y_pred_probs, columns=gb.classes_)\n",
    "\n",
    "y_pred_probs_gbn = gnb_model.predict_proba(X_test)\n",
    "pd.DataFrame(y_pred_probs_gbn, columns=gnb_model.classes_).head(3)"
   ]
  },
  {
   "cell_type": "code",
   "execution_count": 165,
   "metadata": {
    "colab": {},
    "colab_type": "code",
    "id": "-Op-dpYNMzy3"
   },
   "outputs": [],
   "source": [
    "y = y_test\n",
    "scores = y_pred_probs[:, 1]\n",
    "scores_gbn = y_pred_probs_gbn[:, 1]"
   ]
  },
  {
   "cell_type": "code",
   "execution_count": 166,
   "metadata": {
    "colab": {},
    "colab_type": "code",
    "id": "YEsql8cTMzy5",
    "outputId": "1f7e8a7c-31ee-4098-e809-41258fbadfae"
   },
   "outputs": [
    {
     "data": {
      "text/html": [
       "<div>\n",
       "<style scoped>\n",
       "    .dataframe tbody tr th:only-of-type {\n",
       "        vertical-align: middle;\n",
       "    }\n",
       "\n",
       "    .dataframe tbody tr th {\n",
       "        vertical-align: top;\n",
       "    }\n",
       "\n",
       "    .dataframe thead th {\n",
       "        text-align: right;\n",
       "    }\n",
       "</style>\n",
       "<table border=\"1\" class=\"dataframe\">\n",
       "  <thead>\n",
       "    <tr style=\"text-align: right;\">\n",
       "      <th></th>\n",
       "      <th>TPR</th>\n",
       "      <th>FPR</th>\n",
       "      <th>Threshold</th>\n",
       "    </tr>\n",
       "  </thead>\n",
       "  <tbody>\n",
       "    <tr>\n",
       "      <th>0</th>\n",
       "      <td>0.000000</td>\n",
       "      <td>0.000000</td>\n",
       "      <td>2.000000</td>\n",
       "    </tr>\n",
       "    <tr>\n",
       "      <th>15</th>\n",
       "      <td>0.004647</td>\n",
       "      <td>0.002561</td>\n",
       "      <td>1.000000</td>\n",
       "    </tr>\n",
       "    <tr>\n",
       "      <th>30</th>\n",
       "      <td>0.006834</td>\n",
       "      <td>0.004430</td>\n",
       "      <td>1.000000</td>\n",
       "    </tr>\n",
       "    <tr>\n",
       "      <th>45</th>\n",
       "      <td>0.009841</td>\n",
       "      <td>0.006091</td>\n",
       "      <td>0.999998</td>\n",
       "    </tr>\n",
       "  </tbody>\n",
       "</table>\n",
       "</div>"
      ],
      "text/plain": [
       "        TPR      FPR  Threshold\n",
       "0  0.000000 0.000000   2.000000\n",
       "15 0.004647 0.002561   1.000000\n",
       "30 0.006834 0.004430   1.000000\n",
       "45 0.009841 0.006091   0.999998"
      ]
     },
     "execution_count": 166,
     "metadata": {},
     "output_type": "execute_result"
    }
   ],
   "source": [
    "fpr, tpr, thresholds = roc_curve(y, scores, pos_label=True)\n",
    "fpr2, tpr2, thresholds2 = roc_curve(y, scores_gbn, pos_label=True)\n",
    "\n",
    "res = pd.DataFrame({'FPR': fpr, 'TPR': tpr, 'Threshold': thresholds})\n",
    "res = pd.DataFrame({'FPR': fpr2, 'TPR': tpr2, 'Threshold': thresholds2})\n",
    "\n",
    "res[['TPR', 'FPR', 'Threshold']][:60:15]"
   ]
  },
  {
   "cell_type": "code",
   "execution_count": 167,
   "metadata": {
    "colab": {},
    "colab_type": "code",
    "id": "JfICsf7FMzy8",
    "outputId": "77f0e437-0d33-463b-fea0-6a6d002a2e17"
   },
   "outputs": [
    {
     "data": {
      "image/png": "[encoded data removed]",
      "text/plain": [
       "<Figure size 432x288 with 1 Axes>"
      ]
     },
     "metadata": {
      "needs_background": "light"
     },
     "output_type": "display_data"
    }
   ],
   "source": [
    "plt.plot(fpr, tpr, '-o')\n",
    "plt.plot(fpr2, tpr2, '-o',c='r')\n",
    "\n",
    "plt.title('ROC')\n",
    "plt.xlabel('FPR (False Positive Rate = 1-specificity)')\n",
    "plt.ylabel('TPR (True Positive Rate = sensitivity)')\n",
    "plt.xlim([0, 1])\n",
    "plt.ylim([0, 1])\n",
    "plt.legend(['Gradient boosting','Gaussian Naive Bayes'])\n",
    "plt.show()"
   ]
  },
  {
   "cell_type": "markdown",
   "metadata": {},
   "source": [
    "> The closer the curve to the top-left corner - the better. Because I have custom scorer it won't necessarily be aligned with the AOC score."
   ]
  },
  {
   "cell_type": "code",
   "execution_count": 168,
   "metadata": {},
   "outputs": [
    {
     "data": {
      "text/plain": [
       "(0.6468763074545877, 0.5915062679108034)"
      ]
     },
     "execution_count": 168,
     "metadata": {},
     "output_type": "execute_result"
    }
   ],
   "source": [
    "#  GB vs GNB\n",
    "roc_auc_score(y==True, scores), roc_auc_score(y==True, scores2)"
   ]
  },
  {
   "cell_type": "markdown",
   "metadata": {},
   "source": [
    "### Comparing models using custom score (fbeta)"
   ]
  },
  {
   "cell_type": "code",
   "execution_count": 204,
   "metadata": {},
   "outputs": [],
   "source": [
    "models_scores = {'GB':f_beta_GB, 'GNB':f_beta_GNB, 'RF':f_beta_RF, 'LM':f_beta_LM, 'SVM':f_beta_SVM }"
   ]
  },
  {
   "cell_type": "code",
   "execution_count": 205,
   "metadata": {},
   "outputs": [
    {
     "data": {
      "text/html": [
       "<div>\n",
       "<style scoped>\n",
       "    .dataframe tbody tr th:only-of-type {\n",
       "        vertical-align: middle;\n",
       "    }\n",
       "\n",
       "    .dataframe tbody tr th {\n",
       "        vertical-align: top;\n",
       "    }\n",
       "\n",
       "    .dataframe thead th {\n",
       "        text-align: right;\n",
       "    }\n",
       "</style>\n",
       "<table border=\"1\" class=\"dataframe\">\n",
       "  <thead>\n",
       "    <tr style=\"text-align: right;\">\n",
       "      <th></th>\n",
       "      <th>Beta_score</th>\n",
       "    </tr>\n",
       "  </thead>\n",
       "  <tbody>\n",
       "    <tr>\n",
       "      <th>GNB</th>\n",
       "      <td>0.675922</td>\n",
       "    </tr>\n",
       "    <tr>\n",
       "      <th>SVM</th>\n",
       "      <td>0.592769</td>\n",
       "    </tr>\n",
       "    <tr>\n",
       "      <th>GB</th>\n",
       "      <td>0.575170</td>\n",
       "    </tr>\n",
       "    <tr>\n",
       "      <th>RF</th>\n",
       "      <td>0.575170</td>\n",
       "    </tr>\n",
       "    <tr>\n",
       "      <th>LM</th>\n",
       "      <td>0.575170</td>\n",
       "    </tr>\n",
       "  </tbody>\n",
       "</table>\n",
       "</div>"
      ],
      "text/plain": [
       "     Beta_score\n",
       "GNB    0.675922\n",
       "SVM    0.592769\n",
       "GB     0.575170\n",
       "RF     0.575170\n",
       "LM     0.575170"
      ]
     },
     "execution_count": 205,
     "metadata": {},
     "output_type": "execute_result"
    }
   ],
   "source": [
    "pd.DataFrame(data=models_scores, index=['Beta_score']).T.sort_values('Beta_score', ascending=False)"
   ]
  },
  {
   "cell_type": "markdown",
   "metadata": {},
   "source": [
    "## Conclutions and further research\n",
    "\n",
    "* I didn't assessed model performance with accuracy scoring because I believe a custom scorer are more relevant for this case.\n",
    "* After manualy examining the CM and recall\\precision score I would have choose to use SVM model.\n",
    "* According to the custom fbeta score (assumed different weights for precision and recall), GNB performs best. Validating beta value will change the results.\n",
    "* For some features only top 0.01% percentile were labeled as outiers and were removed (some feature were not modified at all). I would have try to remove more outliers and see if the results improve.\n",
    "*  Adding more features such as `Employee_code_ID` that may have latent information of the ability of the borrower to fully return the loan.\n",
    "* Try KNN model accuracy (I assume it will have good results like SMV as for they both use distance kernels).\n",
    "* More hyper parameters tuning using wider GridSearch for reaching higher accuracy.\n",
    "* Applying boosting methods on different models: boosting iteration the samples that were misclassified in the previous iteration are given higher weights, while the correctly-classified samples are given lower weights. "
   ]
  }
 ],
 "metadata": {
  "kernelspec": {
   "display_name": "Python 3",
   "language": "python",
   "name": "python3"
  },
  "language_info": {
   "codemirror_mode": {
    "name": "ipython",
    "version": 3
   },
   "file_extension": ".py",
   "mimetype": "text/x-python",
   "name": "python",
   "nbconvert_exporter": "python",
   "pygments_lexer": "ipython3",
   "version": "3.7.3"
  }
 },
 "nbformat": 4,
 "nbformat_minor": 2
}
